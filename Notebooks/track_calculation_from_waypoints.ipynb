{
 "cells": [
  {
   "cell_type": "markdown",
   "metadata": {},
   "source": [
    "# Notebook to generate track from waypoints\n",
    "#### How to get Waypoints ?\n",
    "* Print the waypoints array in the reward function and train the model for 5 min or less.\n",
    "* Download the logs and define the waypoints as an array with the name `waypoints` and save the file to `TRACK_NAME.py` in the folder `Tracks`.\n",
    "* Refer `stratus_waypoints.py`.\n",
    "\n",
    "#### How to get Track Width ?\n",
    "* When you evaluate a model in the console, we get list of all tracks with length and width for each track. Get width from there in meters."
   ]
  },
  {
   "cell_type": "code",
   "execution_count": null,
   "metadata": {},
   "outputs": [],
   "source": [
    "import glob\n",
    "import numpy as np\n",
    "from shapely.geometry import Point, Polygon\n",
    "from shapely.geometry.polygon import LinearRing, LineString\n",
    "import pandas as pd\n",
    "import matplotlib.pyplot as plt\n",
    "import importlib\n",
    "import sys,os"
   ]
  },
  {
   "cell_type": "code",
   "execution_count": null,
   "metadata": {},
   "outputs": [],
   "source": [
    "# List available waypoints files to analyze\n",
    "available_track_files = glob.glob(\"../Tracks/**.py\")\n",
    "available_track_names = list(map(lambda x: os.path.basename(x).split('.npy')[0], available_track_files))\n",
    "available_track_names"
   ]
  },
  {
   "cell_type": "markdown",
   "metadata": {},
   "source": [
    "## Configure the Waypoints File and Width of the Track"
   ]
  },
  {
   "cell_type": "code",
   "execution_count": null,
   "metadata": {},
   "outputs": [],
   "source": [
    "#Configuration\n",
    "TRACK_NAME=\"stratus\"\n",
    "WAYPOINT_FILE_NAME = TRACK_NAME + '_waypoints'\n",
    "TRACK_WIDTH = 1.07\n",
    "\n",
    "sys.path.append(os.path.abspath('../Tracks'))\n",
    "wp = importlib.import_module( 'stratus_waypoints', package=None)\n",
    "waypoints = wp.waypoints\n",
    "print(\"No. of waypoints loaded : \",len(waypoints))"
   ]
  },
  {
   "cell_type": "code",
   "execution_count": null,
   "metadata": {},
   "outputs": [],
   "source": [
    "def plot_coords(ax, ob):                                                        \n",
    "    x, y = ob.xy                                                                \n",
    "    ax.plot(x, y, '.', color='#999999', zorder=1)                               \n",
    "                                                                                \n",
    "def plot_bounds(ax, ob):                                                        \n",
    "    x, y = zip(*list((p.x, p.y) for p in ob.boundary))                          \n",
    "    ax.plot(x, y, '.', color='#000000', zorder=1)                               \n",
    "                                                                                \n",
    "def plot_line(ax, ob):                                                          \n",
    "    x, y = ob.xy                                                                \n",
    "    ax.plot(x, y, color='cyan', alpha=0.7, linewidth=3, solid_capstyle='round', zorder=2)\n",
    "                                                                                \n",
    "def print_border(ax, waypoints, inner_border_waypoints, outer_border_waypoints):\n",
    "    line = LineString(waypoints)                                                \n",
    "    plot_coords(ax, line)                                                       \n",
    "    plot_line(ax, line)                                                         \n",
    "                                                                                \n",
    "    line = LineString(inner_border_waypoints)                                   \n",
    "    plot_coords(ax, line)                                                       \n",
    "    plot_line(ax, line)                                                         \n",
    "                                                                                \n",
    "    line = LineString(outer_border_waypoints)                                   \n",
    "    plot_coords(ax, line)                                                       \n",
    "    plot_line(ax, line)\n",
    "    \n",
    "    line = LineString(outer_border_waypoints)                                   \n",
    "    plot_coords(ax, line)                                                       \n",
    "    plot_line(ax, line) "
   ]
  },
  {
   "cell_type": "markdown",
   "metadata": {},
   "source": [
    "## Generate outer and inner borders using shapely"
   ]
  },
  {
   "cell_type": "code",
   "execution_count": null,
   "metadata": {},
   "outputs": [],
   "source": [
    "# Make a poly out of our center line, expanding its dimensions to have outer and inner boundaries\n",
    "ls_center = LineString(waypoints)\n",
    "poly = ls_center.buffer(TRACK_WIDTH/2.0)\n",
    "print(\"Center Closed: \", ls_center.is_ring)\n",
    "print(\"Center Length: \", ls_center.length)\n",
    "print(\"Center Bounds: \", ls_center.bounds)\n",
    "exterior_coords = poly.exterior.coords[:]\n",
    "interior_coords = []\n",
    "for interior in poly.interiors:\n",
    "    interior_coords += interior.coords[:]\n",
    "\n",
    "ls_outer = LineString(exterior_coords)\n",
    "ls_inner = LineString(interior_coords)\n",
    "\n",
    "#Generate final waypoint list as [center_x, center_y, inner_x, inner_y, outer_x, outer_y]\n",
    "all_waypoints = list()\n",
    "for i in range(len(ls_center.coords)):\n",
    "    distance = i / len(ls_center.coords)\n",
    "    center_point = ls_center.coords[i]\n",
    "    outer_point = ls_outer.interpolate(distance, normalized=True)\n",
    "    inner_point = ls_inner.interpolate(distance, normalized=True)\n",
    "    all_waypoints.append(list(sum((center_point, inner_point.coords[0], outer_point.coords[0]), ())))\n",
    "\n",
    "poly"
   ]
  },
  {
   "cell_type": "markdown",
   "metadata": {},
   "source": [
    "## Print the Generated Track"
   ]
  },
  {
   "cell_type": "code",
   "execution_count": null,
   "metadata": {},
   "outputs": [],
   "source": [
    "wp = np.array(all_waypoints)\n",
    "center_line = wp[:,0:2]\n",
    "inner_border = wp[:,2:4]\n",
    "outer_border = wp[:,4:6]\n",
    "\n",
    "fig = plt.figure(1, figsize=(16, 10))\n",
    "ax = fig.add_subplot(111, facecolor='black')\n",
    "plt.axis('equal')\n",
    "print_border(ax, center_line, inner_border, outer_border)"
   ]
  },
  {
   "cell_type": "code",
   "execution_count": null,
   "metadata": {},
   "outputs": [],
   "source": [
    "fname = \"../tracks/%s.npy\"% TRACK_NAME\n",
    "np.save(fname, all_waypoints)"
   ]
  },
  {
   "cell_type": "code",
   "execution_count": null,
   "metadata": {},
   "outputs": [],
   "source": [
    "# Check if the track is saved\n",
    "available_track_files = glob.glob(\"../Tracks/**.npy\")\n",
    "available_track_names = list(map(lambda x: os.path.basename(x).split('.npy')[0], available_track_files))\n",
    "available_track_names"
   ]
  },
  {
   "cell_type": "code",
   "execution_count": null,
   "metadata": {},
   "outputs": [],
   "source": []
  }
 ],
 "metadata": {
  "kernelspec": {
   "display_name": "Python 3",
   "language": "python",
   "name": "python3"
  },
  "language_info": {
   "codemirror_mode": {
    "name": "ipython",
    "version": 3
   },
   "file_extension": ".py",
   "mimetype": "text/x-python",
   "name": "python",
   "nbconvert_exporter": "python",
   "pygments_lexer": "ipython3",
   "version": "3.7.1"
  }
 },
 "nbformat": 4,
 "nbformat_minor": 4
}
