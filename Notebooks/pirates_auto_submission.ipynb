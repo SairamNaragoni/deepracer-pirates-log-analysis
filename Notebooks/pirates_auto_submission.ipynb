{
 "cells": [
  {
   "cell_type": "markdown",
   "metadata": {},
   "source": [
    "## Auto Submission Tool For Deepracer"
   ]
  },
  {
   "cell_type": "markdown",
   "metadata": {},
   "source": [
    "## Import the required Libraries"
   ]
  },
  {
   "cell_type": "code",
   "execution_count": null,
   "metadata": {},
   "outputs": [],
   "source": [
    "from selenium import webdriver\n",
    "from selenium.webdriver.support.ui import WebDriverWait\n",
    "from selenium.webdriver.support import expected_conditions as EC\n",
    "from selenium.webdriver.common.by import By\n",
    "import time\n",
    "import datetime\n",
    "from selenium.webdriver import ActionChains"
   ]
  },
  {
   "cell_type": "markdown",
   "metadata": {},
   "source": [
    "## Configuration\n",
    "* chrome_driver_path : Give path to chrome driver on your PC\n",
    "* chrome_user_data : This note book does not handle auto login feature. You'll have to login in manually and give the path to your chrome profile.\n",
    "* TIME_INTERVAL : Sleep time interval , before which the tool can start resubmitting. For time trial races, it usually takes around 7 minutes for each submission with upto 2-3 offtracks.  \n",
    "* Define the `race link` in a variable and the `list of models` which you want to submit in succession. Add them both to the submissions list as a list.\n",
    "* The race times are logged in `logRaceTimes.txt`\n",
    "* Since the submission uses an infinite while loop, please restart kernal in order to stop the submissions"
   ]
  },
  {
   "cell_type": "code",
   "execution_count": null,
   "metadata": {},
   "outputs": [],
   "source": [
    "#Configuration\n",
    "chrome_driver_path = \"C:\\\\Users\\\\Rogue\\\\Downloads\\\\Compressed\\\\chromedriver\"\n",
    "chrome_user_data = \"C:\\\\Users\\\\Rogue\\\\AppData\\\\Local\\\\Google\\\\Chrome\\\\User Data\"\n",
    "TIME_INTERVAL=420\n",
    "LOG_FILE = \"logRaceTimes.txt\"\n",
    "\n",
    "r1=\"https://console.aws.amazon.com/deepracer/home?region=us-east-1#.......\"\n",
    "m1=[\"model1\"]\n",
    "r2 = r1\n",
    "m2 = [\"model1\",\"model2\"]\n",
    "\n",
    "submissions = []\n",
    "submissions.append([r1,m1])\n",
    "submissions.append([r2,m2])"
   ]
  },
  {
   "cell_type": "code",
   "execution_count": null,
   "metadata": {},
   "outputs": [],
   "source": [
    "def log_data_to_file(log_data):\n",
    "        log_file = open(LOG_FILE, \"a\")\n",
    "        log_file.write(log_data)\n",
    "        log_file.close()\n",
    "        \n",
    "def submit_to_race(driver, event, model):\n",
    "    try:\n",
    "        actionChains = ActionChains(driver)    \n",
    "        driver.get(event)\n",
    "        time.sleep(4)\n",
    "        \n",
    "        model_name = driver.find_element_by_id(\"PLCHLDR_latest_model_name\").text\n",
    "        race_time = driver.find_element_by_id(\"PLCHLDR_latest_model_time\").text\n",
    "        \n",
    "        # logs data as model,time\n",
    "        log_data = model_name+\" , \"+race_time+\"\\n\"\n",
    "        log_data_to_file(log_data)\n",
    "        race_again_button = driver.find_element_by_class_name(\"awsui-button-variant-primary\")\n",
    "        driver.execute_script(\"arguments[0].click();\", race_again_button)\n",
    "        \n",
    "        # Wait till element is found and click the dropdown\n",
    "        wait = WebDriverWait(driver, 60)\n",
    "        dropdown = wait.until(EC.presence_of_element_located((By.CLASS_NAME, \"awsui-select-keyboard-area\")))\n",
    "        actionChains.move_to_element(dropdown).perform()\n",
    "        dropdown.click()\n",
    "        time.sleep(1)\n",
    "    \n",
    "        # Select the model\n",
    "        selected_model = driver.find_element_by_xpath(\"//span[@class='awsui-select-option-label' and text()='\"+model+\"']\")\n",
    "        selected_model.click()\n",
    "        \n",
    "        #Click Submit model\n",
    "        submit_button = driver.find_element_by_class_name(\"awsui-button-variant-primary\")\n",
    "        driver.execute_script(\"arguments[0].click();\", submit_button)\n",
    "        time.sleep(1)         \n",
    "    except Exception as e :\n",
    "        print(\"Unable to submit to the race for the model - \",model,e)\n",
    "        return"
   ]
  },
  {
   "cell_type": "code",
   "execution_count": null,
   "metadata": {},
   "outputs": [],
   "source": [
    "# Initializing selenium\n",
    "options = webdriver.ChromeOptions()\n",
    "options.add_argument('--ignore-certificate-errors')\n",
    "options.add_argument(\"--user-data-dir=\"+chrome_user_data)\n",
    "driver = webdriver.Chrome(executable_path=chrome_driver_path, chrome_options=options)\n",
    "driver.maximize_window()\n",
    "\n",
    "# Submit to Race\n",
    "itr=0\n",
    "while True:\n",
    "    log_data_to_file(\"Running Iteration : \"+ str(itr)+\"\\n\")\n",
    "    print(\"Running Iteration : \",itr)\n",
    "    for entry in submissions : \n",
    "        driver.get(\"https://google.co.in\")\n",
    "        race_link = entry[0]\n",
    "        model_list = entry[1]\n",
    "        submit_to_race(driver, race_link, model_list[itr%len(model_list)])\n",
    "    itr+=1\n",
    "    time.sleep(1)   \n",
    "    print(\"Time : \",datetime.datetime.now().time(),\", sleeping for \",round(TIME_INTERVAL/60,2),\" minutes\")\n",
    "    time.sleep(TIME_INTERVAL)"
   ]
  },
  {
   "cell_type": "code",
   "execution_count": null,
   "metadata": {},
   "outputs": [],
   "source": []
  }
 ],
 "metadata": {
  "kernelspec": {
   "display_name": "Python 3",
   "language": "python",
   "name": "python3"
  },
  "language_info": {
   "codemirror_mode": {
    "name": "ipython",
    "version": 3
   },
   "file_extension": ".py",
   "mimetype": "text/x-python",
   "name": "python",
   "nbconvert_exporter": "python",
   "pygments_lexer": "ipython3",
   "version": "3.7.1"
  }
 },
 "nbformat": 4,
 "nbformat_minor": 4
}
